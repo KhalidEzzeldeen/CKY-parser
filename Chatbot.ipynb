{
  "nbformat": 4,
  "nbformat_minor": 0,
  "metadata": {
    "colab": {
      "name": "Chatbot.ipynb",
      "version": "0.3.2",
      "provenance": [],
      "include_colab_link": true
    },
    "kernelspec": {
      "name": "python3",
      "display_name": "Python 3"
    }
  },
  "cells": [
    {
      "cell_type": "markdown",
      "metadata": {
        "id": "view-in-github",
        "colab_type": "text"
      },
      "source": [
        "<a href=\"https://colab.research.google.com/github/janvi-palan/CKY-parser/blob/master/Chatbot.ipynb\" target=\"_parent\"><img src=\"https://colab.research.google.com/assets/colab-badge.svg\" alt=\"Open In Colab\"/></a>"
      ]
    },
    {
      "cell_type": "code",
      "metadata": {
        "id": "dVpAvaJ6fBbI",
        "colab_type": "code",
        "colab": {}
      },
      "source": [
        "import nltk\n",
        "import numpy as np\n",
        "import random\n",
        "import string # to process standard python strings\n"
      ],
      "execution_count": 0,
      "outputs": []
    },
    {
      "cell_type": "code",
      "metadata": {
        "id": "S9fMR3hufEOO",
        "colab_type": "code",
        "colab": {}
      },
      "source": [
        "f = open(\"chatbot.txt\", \"r\")"
      ],
      "execution_count": 0,
      "outputs": []
    },
    {
      "cell_type": "code",
      "metadata": {
        "id": "HyQ40xTufgVH",
        "colab_type": "code",
        "colab": {
          "base_uri": "https://localhost:8080/",
          "height": 72
        },
        "outputId": "e64481b4-7719-4608-d945-596ffbe9e964"
      },
      "source": [
        "raw_text = f.read()\n",
        "raw_text"
      ],
      "execution_count": 18,
      "outputs": [
        {
          "output_type": "execute_result",
          "data": {
            "text/plain": [
              "'\\nChatbot\\nFrom Wikipedia, the free encyclopedia\\nJump to navigationJump to search\\nFor other uses, see Chatbot (disambiguation).\\n\\nA virtual assistant chatbot\\nA chatbot is a computer program which conducts a conversation via auditory or textual methods.[1] Such programs are often designed to convincingly simulate how a human would behave as a conversational partner, although as of 2019, they are far short of being able to pass the Turing test.[2] Chatbots are typically used in dialog systems for various practical purposes including customer service or information acquisition. Some chatbots use sophisticated natural language processing systems, but many simpler ones scan for keywords within the input, then pull a reply with the most matching keywords, or the most similar wording pattern, from a database.\\n\\nThe term \"ChatterBot\" was originally coined by Michael Mauldin (creator of the first Verbot, Julia) in 1994 to describe these conversational programs.[3] Today, most chatbots are accessed via virtual assistants such as Google Assistant and Amazon Alexa, via messaging apps such as Facebook Messenger or WeChat, or via individual organizations\\' apps and websites.[4][5] Chatbots can be classified into usage categories such as conversational commerce (e-commerce via chat), analytics, communication, customer support, design, developer tools, education, entertainment, finance, food, games, health, HR, marketing, news, personal, productivity, shopping, social, sports, travel and utilities.[6]\\n\\nBeyond chatbots, Conversational AI refers to the use of messaging apps, speech-based assistants and chatbots to automate communication and create personalized customer experiences at scale.[7]\\n\\n\\nContents\\n1\\tBackground\\n2\\tDevelopment\\n3\\tApplication\\n3.1\\tMessaging apps\\n3.1.1\\tAs part of company apps and websites\\n3.1.2\\tChatbot sequences\\n3.2\\tCompany internal platforms\\n3.3\\tBanking\\n3.4\\tToys\\n4\\tChatbot development platforms\\n5\\tMalicious use\\n6\\tLimitations of Chatbots\\n7\\tChatbots and jobs\\n8\\tSee also\\n9\\tReferences\\n9.1\\tFurther reading\\nBackground\\nIn 1950, Alan Turing\\'s famous article \"Computing Machinery and Intelligence\" was published,[8] which proposed what is now called the Turing test as a criterion of intelligence. This criterion depends on the ability of a computer program to impersonate a human in a real-time written conversation with a human judge, sufficiently well that the judge is unable to distinguish reliably—on the basis of the conversational content alone—between the program and a real human. The notoriety of Turing\\'s proposed test stimulated great interest in Joseph Weizenbaum\\'s program ELIZA, published in 1966, which seemed to be able to fool users into believing that they were conversing with a real human. However Weizenbaum himself did not claim that ELIZA was genuinely intelligent, and the introduction to his paper presented it more as a debunking exercise:\\n\\n[In] artificial intelligence ... machines are made to behave in wondrous ways, often sufficient to dazzle even the most experienced observer. But once a particular program is unmasked, once its inner workings are explained ... its magic crumbles away; it stands revealed as a mere collection of procedures ... The observer says to himself \"I could have written that\". With that thought he moves the program in question from the shelf marked \"intelligent\", to that reserved for curios ... The object of this paper is to cause just such a re-evaluation of the program about to be \"explained\". Few programs ever needed it more.[9]\\n\\nELIZA\\'s key method of operation (copied by chatbot designers ever since) involves the recognition of clue words or phrases in the input, and the output of corresponding pre-prepared or pre-programmed responses that can move the conversation forward in an apparently meaningful way (e.g. by responding to any input that contains the word \\'MOTHER\\' with \\'TELL ME MORE ABOUT YOUR FAMILY\\').[10] Thus an illusion of understanding is generated, even though the processing involved has been merely superficial. ELIZA showed that such an illusion is surprisingly easy to generate, because human judges are so ready to give the benefit of the doubt when conversational responses are capable of being interpreted as \"intelligent\".\\n\\nInterface designers have come to appreciate that humans\\' readiness to interpret computer output as genuinely conversational—even when it is actually based on rather simple pattern-matching—can be exploited for useful purposes. Most people prefer to engage with programs that are human-like, and this gives chatbot-style techniques a potentially useful role in interactive systems that need to elicit information from users, as long as that information is relatively straightforward and falls into predictable categories. Thus, for example, online help systems can usefully employ chatbot techniques to identify the area of help that users require, potentially providing a \"friendlier\" interface than a more formal search or menu system. This sort of usage holds the prospect of moving chatbot technology from Weizenbaum\\'s \"shelf ... reserved for curios\" to that marked \"genuinely useful computational methods\".\\n\\nDevelopment\\nThe classic historic early chatbots are ELIZA (1966) and PARRY (1972).[11][12][13][14] More recent notable programs include A.L.I.C.E., Jabberwacky and D.U.D.E (Agence Nationale de la Recherche and CNRS 2006). While ELIZA and PARRY were used exclusively to simulate typed conversation, many chatbots now include functional features such as games and web searching abilities. In 1984, a book called The Policeman\\'s Beard is Half Constructed was published, allegedly written by the chatbot Racter (though the program as released would not have been capable of doing so).[15]\\n\\nOne pertinent field of AI research is natural language processing. Usually, weak AI fields employ specialized software or programming languages created specifically for the narrow function required. For example, A.L.I.C.E. uses a markup language called AIML, which is specific to its function as a conversational agent, and has since been adopted by various other developers of, so called, Alicebots. Nevertheless, A.L.I.C.E. is still purely based on pattern matching techniques without any reasoning capabilities, the same technique ELIZA was using back in 1966. This is not strong AI, which would require sapience and logical reasoning abilities.\\n\\nJabberwacky learns new responses and context based on real-time user interactions, rather than being driven from a static database. Some more recent chatbots also combine real-time learning with evolutionary algorithms that optimise their ability to communicate based on each conversation held. Still, there is currently no general purpose conversational artificial intelligence, and some software developers focus on the practical aspect, information retrieval.\\n\\nChatbot competitions focus on the Turing test or more specific goals. Two such annual contests are the Loebner Prize and The Chatterbox Challenge (the latter has been offline since 2015, however materials can still be found from web archives).[16]\\n\\nApplication\\nSee also: Virtual assistant\\n\\nAeromexico airline chatbot running on Facebook Messenger, March 2018\\nChatbots are used in a diverse fashion, across all verticals and on many different types of channel, e.g. websites, social messaging, etc. In business their application accelerated rapidly in 2019, leading Van Baker, research vice president at Gartner, to predict that: “By 2020, over 50% of medium to large enterprises will have deployed product chatbots.\"[17]\\n\\nMessaging apps\\nMany companies\\' chatbots run on messaging apps or simply via SMS. They are used for B2C customer service, sales and marketing.[18]\\n\\nIn 2016, Facebook Messenger allowed developers to place chatbots on their platform. There were 30,000 bots created for Messenger in the first six months, rising to 100,000 by September 2017. [19]\\n\\nSince September 2017, this has also been as part of a pilot program on WhatsApp. Airlines KLM and Aeroméxico both announced their participation in the testing;[20][21][22][23] both airlines had previously launched customer services on the Facebook Messenger platform.\\n\\nThe bots usually appear as one of the user\\'s contacts, but can sometimes act as participants in a group chat.\\n\\nMany banks, insurers, media companies, e-commerce companies, airlines, hotel chains, retailers, health care providers, government entities and restaurant chains have used chatbots to answer simple questions, increase customer engagement,[24] for promotion, and to offer additional ways to order from them.[25][26]\\n\\nA 2017 study showed 4% of companies used chatbots.[27] According to a 2016 study, 80% of businesses said they intended to have one by 2020.[28]\\n\\nAs part of company apps and websites\\nPrevious generations of chatbots were present on company websites, e.g. Ask Jenn from Alaska Airlines which debuted in 2008[29] or Expedia\\'s virtual customer service agent which launched in 2011.[29][30] The newer generation of chatbots includes IBM Watson-powered \"Rocky\", introduced in February 2017 by the New York City-based e-commerce company Rare Carat to provide information to prospective diamond buyers.[31][32]\\n\\nChatbot sequences\\nUsed by marketers to script sequnces of messages, very similar to an Autoresponder sequence. Such sequences can be triggered by user opt-in or the use of keywords within user interactions. After a trigger occurs a sequnce of messages is delivered until the next anticipated user response. Each user response is used in the decision tree to help the chat bot navigate the response sequnces to deliver the correct response message.\\n\\nCompany internal platforms\\nOther companies explore ways they can use chatbots internally, for example for Customer Support, Human Resources, or even in Internet-of-Things (IoT) projects. Overstock.com, for one, has reportedly launched a chatbot named Mila to automate certain simple yet time-consuming processes when requesting for a sick leave.[33] Other large companies such as Lloyds Banking Group, Royal Bank of Scotland, Renault and Citroën are now using automated online assistants instead of call centres with humans to provide a first point of contact. A SaaS chatbot business ecosystem has been steadily growing since the F8 Conference when Facebook\\'s Mark Zuckerberg unveiled that Messenger would allow chatbots into the app.[34] In large companies, like in hospitals and aviation organizations, IT architects are designing reference architectures for Intelligent Chatbots that are used to unlock and share knowledge and experience in the organization more efficiently, and reduce the errors in answers from expert service desks significantly.[35] These Intelligent Chatbots make use of all kinds of artificial intelligence like image moderation and natural language understanding (NLU), natural language generation (NLG), machine learning and deep learning.\\n\\nBanking\\nNowadays a high majority of high-tech banking organizations are looking for integration of automated AI-based solutions such as chatbots in their customer service in order to provide faster and cheaper assistance to their clients becoming increasingly technodexterous. In particularly, chatbots can efficiently conduct a dialogue, usually substituting other communication tools such as email, phone, or SMS. In banking area their major application is related to quick customer service answering common requests, and transactional support.\\n\\nSeveral studies accomplished by analytics agencies such as Juniper or Gartner [36] report significant reduction of cost of customer services, leading to billions of dollars of economy in the next 10 years. Gartner predicts an integration by 2020 of chatbots in at least 85% of all client\\'s applications to customer service. Juniper\\'s study announces an impressive amount of $8 billion retained annually by 2022 due to the use of chatbots.\\n\\nSince 2016 when Facebook allows businesses to deliver automated customer support, e-commerce guidance, content and interactive experiences through chatbots, a large variety of chatbots for Facebook Messenger platform were developed.[37] In 2016, Russia-based Tochka Bank launched the world\\'s first Facebook bot for a range of financial services, in particularly including a possibility of making payments. [38] In July 2016, Barclays Africa also launched a Facebook chatbot, making it the first bank to do so in Africa. [39]\\n\\nThe France\\'s third largest bank by total assets [40] Société Générale launched their chatbot called SoBot in March 2018. While the 80% of users of the SoBot express their satisfaction after having tested it, il will never remplace the expertise provided by a human advisor according to SG deputy director Bertrand Cozzarolo. [41]\\n\\nThere are several potential advantages of using chatbots in interaction with customer in banking:[42]\\n\\nCost reduction. Chatbots eliminate the obligation of any human presence during online interaction and are so long seen as a huge advantage by companies operating with multiple repetitive queries at once as long as they don\\'t require any decision-making procedure.[43]\\nHuman touch. Chatbots, providing an interface similar to human-to-human interaction, are more intuitive and so less difficult to use than a standard banking mobile application. They doesn\\'t require any additional software installation and are more adaptive as able to be personalized during the exploitation by the means of machine learning. Chatbots are instant and so much faster that phone calls, shown to be considered as tedious in some studies. Then they satisfy both speed and personalization requirement while interacting with a bank.\\nFinancial advice. State-of-the-art banking assistants can, by accessing personal customer\\'s data such as consumer behavior or history of purchases, provide useful information on client\\'s account and use it to develop AI-Based recommendations for better adapted money management.\\nAttracting new clients. A chatbot greeting a bank\\'s website guest can provide some useful and relevant information, helping to exploit the offered products and services in a personalized manner helps to attract the potential client and the he is more likely to end by creation of a new account.[42]\\n24/7 digital support. An instant and always accessible assistant is assumed by the more and more digital consumer of the new era.[36] Unlike humans, chatbots once developed and installed don\\'t have a limited workdays, holidays or weekends and are ready to attend queries at any hour of the day. It helps to the customer to avoid waiting of a company\\'s agent to be available. Thus, the customer doesn\\'t have to wait for the company executive to help them. This also lets companies keep an eye on the traffic during the non-working hours and reach out to them later.[43]\\nToys\\nChatbots have also been incorporated into devices not primarily meant for computing such as toys.[44]\\n\\nHello Barbie is an Internet-connected version of the doll that uses a chatbot provided by the company ToyTalk,[45] which previously used the chatbot for a range of smartphone-based characters for children.[46] These characters\\' behaviors are constrained by a set of rules that in effect emulate a particular character and produce a storyline.[47]\\n\\nIBM\\'s Watson computer has been used as the basis for chatbot-based educational toys for companies such as CogniToys[44] intended to interact with children for educational purposes.[48]\\n\\nChatbot development platforms\\nThe process of building, testing and deploying chatbots can be done on cloud-based chatbot development platforms[49] offered by cloud Platform as a Service (PaaS) providers such as Oracle Cloud Platform [50][30] and IBM Watson.[51][52][53] These cloud platforms provide Natural Language Processing, Artificial Intelligence and Mobile Backend as a Service for chatbot development.\\n\\nAPI\\n\\nSome Companies like Microsoft Azure and AARC are currently providing their Bot Engines through which chatbot Platforms or Software can be developed\\n\\nMalicious use\\nMalicious chatbots are frequently used to fill chat rooms with spam and advertisements, by mimicking human behavior and conversations or to entice people into revealing personal information, such as bank account numbers. They are commonly found on Yahoo! Messenger, Windows Live Messenger, AOL Instant Messenger and other instant messaging protocols. There has also been a published report of a chatbot used in a fake personal ad on a dating service\\'s website.[54]\\n\\nTay, an AI chatbot that learns from previous interaction, caused major controversy due to it being targeted by internet trolls on Twitter. The bot was exploited, and after 16 hours began to send extremely offensive Tweets to users. This suggests that although the bot learnt effectively from experience, adequate protection was not put in place to prevent misuse.[55]\\n\\nIf a text-sending algorithm can pass itself off as a human instead of a chatbot, its message would be more credible. Therefore, human-seeming chatbots with well-crafted online identities could start scattering fake news that seem plausible, for instance making false claims during a presidential election. With enough chatbots, it might be even possible to achieve artificial social proof.[56][57]\\n\\nLimitations of Chatbots\\nThe creation and implementation of chatbots is still a developing area, heavily related to artificial intelligence and machine learning, so the provided solutions, while possessing obvious advantages, have some important limitations in terms of functionalities and use cases. However this is changing over time.\\n\\nThe most common ones are listed below:[58]\\n\\nAs the database, used for output generation, is fixed and limited, chatbots can fail while dealing with an unsaved query.[43]\\nChatbot\\'s efficiency highly depends on language processing and is limited because of irregularities, such as accents and mistakes that can create an important barrier for international and multi-cultural organisations [59]\\nChatbots are unable to deal with multiple questions at the same time and so conversation opportunities are limited.[58]\\nAs it happens usually with technology-led changes in existing services, some consumers, more often than not from the old generation, are uncomfortable with chatbots due to their limited understanding, making it obvious that their requests are being dealt machines.[58]\\nChatbots and jobs\\nChatbots are increasingly present in businesses and often are used to automate tasks that do not require skill-based talents. With customer service taking place via messaging apps as well as phone calls, there are growing numbers of use-cases where chatbot deployment gives organisations a clear return on investment. Call centre workers may be particularly at risk from AI-driven chatbots.[60]\\n\\nA study by Forrester (June 2017) predicts that 25% of today\\'s jobs will most likely be impacted by AI technologies by 2019.[61]\\n\\nSee also\\nApplications of artificial intelligence\\nEugene Goostman\\nInteractive online characters\\nInternet bot\\nSocial bot\\nTwitterbot\\nList of chatterbots\\nReferences\\n \"What is a chatbot?\". techtarget.com. Retrieved 30 January 2017.\\n Luka Bradeško, Dunja Mladenić. \"A Survey of Chabot Systems through a Loebner Prize Competition\" (PDF). Retrieved 28 June 2019.\\n Mauldin 1994\\n Orf, Darren. \"Google Assistant Is a Mega AI Bot That Wants To Be Absolutely Everywhere\".\\n \"The 8 best chatbots of 2016\". 21 December 2016.\\n \"2017 Messenger Bot Landscape, a Public Spreadsheet Gathering 1000+ Messenger Bots\". 3 May 2017.\\n https://georgianpartners.com/investment-thesis-areas/overview-conversational-ai/\\n (Turing 1950)\\n (Weizenbaum 1966, p. 36)\\n (Weizenbaum 1966, pp. 44–5)\\n GüzeldereFranchi 1995\\n Computer History Museum 2006\\n Sondheim 1997\\n Network Working Group 1973—Transcript of a session between Parry and Eliza. (This is not the dialogue from the ICCC, which took place October 24–26, 1972, whereas this session is from September 18, 1972.)\\n www.everything.com 13 November 1999\\n (in German) Chatroboter simulieren Menschen\\n \"Chatbots Will Appeal to Modern Workers\". 2018-03-28. Retrieved 2019-07-04.\\n Beaver, Laurie (July 2016). The Chatbots Explainer. BI Intelligence.\\n \"Facebook Messenger Hits 100,000 bots\". 2017-04-18. Retrieved 2017-09-22.\\n \"KLM claims airline first with WhatsApp Business Platform\".\\n Staff, Forbes (26 October 2017). \"Aeroméxico te atenderá por WhatsApp durante 2018\". Retrieved 2 July 2018.\\n Redacción (27 October 2017). \"Podrás hacer \\'check in\\' y consultar tu vuelo con Aeroméxico a través de WhatsApp\". Huffington Post. Retrieved 2 July 2018 – via Huff Post.\\n \"Building for People, and Now Businesses\". WhatsApp.com. Retrieved 2 July 2018.\\n \"She is the company\\'s most effective employee\". Nordea News.\\n \"Better believe the bot boom is blowing up big for B2B, B2C businesses\". VentureBeat. 2016-07-24.\\n \"Chatbots Take Education To the Next Level – Chatbot News Daily\". Chatbot News Daily. 2016-09-29. Retrieved 2017-06-23.\\n \"The AI Revolution is Underway! – PM360\". www.pm360online.com. Retrieved 2 July 2018.\\n \"80% of businesses want chatbots by 2020\". Retrieved 2 July 2018.\\n \"A Virtual Travel Agent With All the Answers\". The New York Times. 4 March 2008.\\n \"Chatbot vendor directory released –\". www.hypergridbusiness.com.\\n \"Rare Carat\\'s Watson-powered chatbot will help you put a diamond ring on it\". TechCrunch. February 15, 2017.\\n \"10 ways you may have already used IBM Watson\". VentureBeat. March 10, 2017.\\n Greenfield, Rebecca. \"Chatbots Are Your Newest, Dumbest Co-Workers\". Bloomberg.\\n \"Facebook opens its Messenger platform to chatbots\". 12 April 2016.\\n \"Chatbot Reference Architecture\". 1 January 2019.\\n \"HOW CHATBOTS ARE TRANSFORMING WALL STREET AND MAIN STREET BANKS?\". 1 April 2019.\\n \"Facebook launches Messenger platrofm with chatbots\". 1 April 2019.\\n \"Российский банк запустил чат-бота в Facebook\". 1 April 2019.\\n \"Absa launches \\'world-first\\' Facebook Messenger banking\". 1 April 2019.\\n \"The Biggest French Banks by Total Assets\". Banks around the World. Retrieved April 1, 2019.\\n \"GAGNER DU TEMPS AVEC LE CHATBOT BANCAIRE POUR GAGNER EN INTELLIGENCE AVEC LES CONSEILLERS\". Marketing Client. Retrieved April 1, 2019.\\n \"Meet 11 of the Most Interesting Chatbots in Banking\". The Financial Brain. Retrieved April 1, 2019.\\n \"CHATBOTS: BOON OR BANE?\". bluelupin. Retrieved April 1, 2019.\\n Amy (2015-02-23). \"Conversational Toys – The Latest Trend in Speech Technology\". Virtual Agent Chat. Retrieved 2016-08-11.\\n NAGY, EVIE. \"USING TOYTALK TECHNOLOGY, NEW HELLO BARBIE WILL HAVE REAL CONVERSATIONS WITH KIDS\". Fast Company. Retrieved 18 March 2015.\\n Oren Jacob, the co-founder and CEO of ToyTalk interviewed on the TV show Triangulation on the TWiT.tv network\\n \"Artificial intelligence script tool\".\\n Takahashi, Dean. \"Elemental\\'s smart connected toy taps IBM\\'s Watson supercomputer for its brains\". Venture Beat. Retrieved 15 May 2015.\\n Yuan, Michael (2018-02-19). Chatbots: Building Intelligent, Cross-Platform, Messaging Bots. Pearson Education. ISBN 9780134650616.\\n \"Top 60 chatbots\".\\n \"Oracle launches a chatbot development platform | VentureBeat\". venturebeat.com. Retrieved 2017-11-15.\\n \"Oracle Introduces AI-Powered Intelligent Bots to Help Enterprises Engage Customers and Employees\". www.oracle.com. Retrieved 2017-11-15.\\n \"Mobile Service | Oracle Cloud\". cloud.oracle.com. Retrieved 2017-11-15.\\n \"From Russia With Love\" (PDF). Retrieved 2007-12-09. Psychologist and Scientific American: Mind contributing editor Robert Epstein reports how he was initially fooled by a chatterbot posing as an attractive girl in a personal ad he answered on a dating website. In the ad, the girl portrayed herself as being in Southern California and then soon revealed, in poor English, that she was actually in Russia. He became suspicious after a couple of months of email exchanges, sent her an email test of gibberish, and she still replied in general terms. The dating website is not named. Scientific American: Mind, October–November 2007, page 16–17, \"From Russia With Love: How I got fooled (and somewhat humiliated) by a computer\". Also available online.\\n Bird, Jordan J.; Ekart, Aniko; Faria, Diego R. (June 2018). Advances in Computational Intelligence Systems (1st ed.). Nottingham, UK: Springer. pp. 179–190. ISBN 978-3-319-97982-3. Retrieved 3 December 2018.\\n \"Fake News\". Retrieved 2018-11-20.\\n \"Malicious uses\". Retrieved 2016-05-11.\\n \"Meet 11 of the Most Interesting Chatbots in Banking\". Retrieved 2019-04-01.\\n \"Why chatbots fail (and why natural languages are hard)\". Retrieved 2019-04-01.\\n \"How talking machines are taking call centre jobs\". Retrieved 2019-04-01.\\n \"How chatbots are killing jobs (and creating new ones)\". June 2017. Retrieved 2019-04-01.\\nFurther reading\\nComputer History Museum (2006), \"Internet History—1970\\'s\", Exhibits, Computer History Museum, archived from the original on 2008-02-21, retrieved 2008-03-05\\nGüzeldere, Güven; Franchi, Stefano (1995-07-24), \"Constructions of the Mind\", Stanford Humanities Review, SEHR, Stanford University, 4 (2), retrieved 2008-03-05\\nMauldin, Michael (1994), \"ChatterBots, TinyMuds, and the Turing Test: Entering the Loebner Prize Competition\", Proceedings of the Eleventh National Conference on Artificial Intelligence, AAAI Press, retrieved 2008-03-05 (abstract)\\nNetwork Working Group (1973), \"RFC 439, PARRY Encounters the DOCTOR\", Internet Engineering Task Force, Internet Society, retrieved 2008-03-05\\nSondheim, Alan J (1997), <nettime> Important Documents from the Early Internet (1972), nettime.org, archived from the original on 2008-06-13, retrieved 2008-03-05\\nSearle, John (1980), \"Minds, Brains and Programs\", Behavioral and Brain Sciences, 3 (3): 417–457, doi:10.1017/S0140525X00005756\\nShevat, Amir (2017). Designing bots: Creating conversational experiences (First ed.). Sebastopol, CA: O\\'Reilly Media. ISBN 9781491974827. OCLC 962125282.\\nTuring, Alan (1950), \"Computing Machinery and Intelligence\", Mind, 59 (236): 433–60, doi:10.1093/mind/lix.236.433\\nWeizenbaum, Joseph (January 1966), \"ELIZA—A Computer Program For the Study of Natural Language Communication Between Man And Machine\", Communications of the ACM, 9 (1): 36–45, doi:10.1145/365153.365168\\nvte\\nNatural language processing\\nGlobe of letters.svgLanguage portal\\nCategories: ChatterbotsInstant messagingInteractive narrativeNatural language parsing\\nNavigation menu\\nNot logged inTalkContributionsCreate accountLog inArticleTalkReadEditView historySearch\\nSearch Wikipedia\\nMain page\\nContents\\nFeatured content\\nCurrent events\\nRandom article\\nDonate to Wikipedia\\nWikipedia store\\nInteraction\\nHelp\\nAbout Wikipedia\\nCommunity portal\\nRecent changes\\nContact page\\nTools\\nWhat links here\\nRelated changes\\nUpload file\\nSpecial pages\\nPermanent link\\nPage information\\nWikidata item\\nCite this page\\nIn other projects\\nWikimedia Commons\\nWikibooks\\nPrint/export\\nCreate a book\\nDownload as PDF\\nPrintable version\\n\\nLanguages\\nالعربية\\nDeutsch\\nEspañol\\nFrançais\\n한국어\\nBahasa Indonesia\\nItaliano\\nРусский\\n中文\\n23 more\\nEdit links\\nThis page was last edited on 3 August 2019, at 03:37 (UTC).\\nText is available under the Creative Commons Attribution-ShareAlike License; additional terms may apply. By using this site, you agree to the Terms of Use and Privacy Policy. Wikipedia® is a registered trademark of the Wikimedia Foundation, Inc., a non-profit organization.\\nPrivacy policyAbout WikipediaDisclaimersContact WikipediaDevelopersCookie statementMobile viewWikimedia Foundation Powered by MediaWiki\\n'"
            ]
          },
          "metadata": {
            "tags": []
          },
          "execution_count": 18
        }
      ]
    },
    {
      "cell_type": "code",
      "metadata": {
        "id": "aln7mTjbfiY4",
        "colab_type": "code",
        "colab": {
          "base_uri": "https://localhost:8080/",
          "height": 86
        },
        "outputId": "523f1f52-4d43-4add-ac7a-329606e84959"
      },
      "source": [
        "nltk.download('punkt') # first-time use only\n",
        "nltk.download('wordnet') # first-time use only\n",
        "sent_tokens = nltk.sent_tokenize(raw_text)# converts to list of sentences \n",
        "word_tokens = nltk.word_tokenize(raw_text)# converts to list of words"
      ],
      "execution_count": 19,
      "outputs": [
        {
          "output_type": "stream",
          "text": [
            "[nltk_data] Downloading package punkt to /root/nltk_data...\n",
            "[nltk_data]   Package punkt is already up-to-date!\n",
            "[nltk_data] Downloading package wordnet to /root/nltk_data...\n",
            "[nltk_data]   Package wordnet is already up-to-date!\n"
          ],
          "name": "stdout"
        }
      ]
    },
    {
      "cell_type": "code",
      "metadata": {
        "id": "tFxcM4hrfnV3",
        "colab_type": "code",
        "colab": {
          "base_uri": "https://localhost:8080/",
          "height": 1000
        },
        "outputId": "c4caa9a7-aff5-426d-a3cd-2dcafad5beb7"
      },
      "source": [
        "sent_tokens"
      ],
      "execution_count": 20,
      "outputs": [
        {
          "output_type": "execute_result",
          "data": {
            "text/plain": [
              "['\\nChatbot\\nFrom Wikipedia, the free encyclopedia\\nJump to navigationJump to search\\nFor other uses, see Chatbot (disambiguation).',\n",
              " 'A virtual assistant chatbot\\nA chatbot is a computer program which conducts a conversation via auditory or textual methods.',\n",
              " '[1] Such programs are often designed to convincingly simulate how a human would behave as a conversational partner, although as of 2019, they are far short of being able to pass the Turing test.',\n",
              " '[2] Chatbots are typically used in dialog systems for various practical purposes including customer service or information acquisition.',\n",
              " 'Some chatbots use sophisticated natural language processing systems, but many simpler ones scan for keywords within the input, then pull a reply with the most matching keywords, or the most similar wording pattern, from a database.',\n",
              " 'The term \"ChatterBot\" was originally coined by Michael Mauldin (creator of the first Verbot, Julia) in 1994 to describe these conversational programs.',\n",
              " \"[3] Today, most chatbots are accessed via virtual assistants such as Google Assistant and Amazon Alexa, via messaging apps such as Facebook Messenger or WeChat, or via individual organizations' apps and websites.\",\n",
              " '[4][5] Chatbots can be classified into usage categories such as conversational commerce (e-commerce via chat), analytics, communication, customer support, design, developer tools, education, entertainment, finance, food, games, health, HR, marketing, news, personal, productivity, shopping, social, sports, travel and utilities.',\n",
              " '[6]\\n\\nBeyond chatbots, Conversational AI refers to the use of messaging apps, speech-based assistants and chatbots to automate communication and create personalized customer experiences at scale.',\n",
              " '[7]\\n\\n\\nContents\\n1\\tBackground\\n2\\tDevelopment\\n3\\tApplication\\n3.1\\tMessaging apps\\n3.1.1\\tAs part of company apps and websites\\n3.1.2\\tChatbot sequences\\n3.2\\tCompany internal platforms\\n3.3\\tBanking\\n3.4\\tToys\\n4\\tChatbot development platforms\\n5\\tMalicious use\\n6\\tLimitations of Chatbots\\n7\\tChatbots and jobs\\n8\\tSee also\\n9\\tReferences\\n9.1\\tFurther reading\\nBackground\\nIn 1950, Alan Turing\\'s famous article \"Computing Machinery and Intelligence\" was published,[8] which proposed what is now called the Turing test as a criterion of intelligence.',\n",
              " 'This criterion depends on the ability of a computer program to impersonate a human in a real-time written conversation with a human judge, sufficiently well that the judge is unable to distinguish reliably—on the basis of the conversational content alone—between the program and a real human.',\n",
              " \"The notoriety of Turing's proposed test stimulated great interest in Joseph Weizenbaum's program ELIZA, published in 1966, which seemed to be able to fool users into believing that they were conversing with a real human.\",\n",
              " 'However Weizenbaum himself did not claim that ELIZA was genuinely intelligent, and the introduction to his paper presented it more as a debunking exercise:\\n\\n[In] artificial intelligence ... machines are made to behave in wondrous ways, often sufficient to dazzle even the most experienced observer.',\n",
              " 'But once a particular program is unmasked, once its inner workings are explained ... its magic crumbles away; it stands revealed as a mere collection of procedures ...',\n",
              " 'The observer says to himself \"I could have written that\".',\n",
              " 'With that thought he moves the program in question from the shelf marked \"intelligent\", to that reserved for curios ...',\n",
              " 'The object of this paper is to cause just such a re-evaluation of the program about to be \"explained\".',\n",
              " 'Few programs ever needed it more.',\n",
              " \"[9]\\n\\nELIZA's key method of operation (copied by chatbot designers ever since) involves the recognition of clue words or phrases in the input, and the output of corresponding pre-prepared or pre-programmed responses that can move the conversation forward in an apparently meaningful way (e.g.\",\n",
              " \"by responding to any input that contains the word 'MOTHER' with 'TELL ME MORE ABOUT YOUR FAMILY').\",\n",
              " '[10] Thus an illusion of understanding is generated, even though the processing involved has been merely superficial.',\n",
              " 'ELIZA showed that such an illusion is surprisingly easy to generate, because human judges are so ready to give the benefit of the doubt when conversational responses are capable of being interpreted as \"intelligent\".',\n",
              " \"Interface designers have come to appreciate that humans' readiness to interpret computer output as genuinely conversational—even when it is actually based on rather simple pattern-matching—can be exploited for useful purposes.\",\n",
              " 'Most people prefer to engage with programs that are human-like, and this gives chatbot-style techniques a potentially useful role in interactive systems that need to elicit information from users, as long as that information is relatively straightforward and falls into predictable categories.',\n",
              " 'Thus, for example, online help systems can usefully employ chatbot techniques to identify the area of help that users require, potentially providing a \"friendlier\" interface than a more formal search or menu system.',\n",
              " 'This sort of usage holds the prospect of moving chatbot technology from Weizenbaum\\'s \"shelf ... reserved for curios\" to that marked \"genuinely useful computational methods\".',\n",
              " 'Development\\nThe classic historic early chatbots are ELIZA (1966) and PARRY (1972).',\n",
              " '[11][12][13][14] More recent notable programs include A.L.I.C.E., Jabberwacky and D.U.D.E (Agence Nationale de la Recherche and CNRS 2006).',\n",
              " 'While ELIZA and PARRY were used exclusively to simulate typed conversation, many chatbots now include functional features such as games and web searching abilities.',\n",
              " \"In 1984, a book called The Policeman's Beard is Half Constructed was published, allegedly written by the chatbot Racter (though the program as released would not have been capable of doing so).\",\n",
              " '[15]\\n\\nOne pertinent field of AI research is natural language processing.',\n",
              " 'Usually, weak AI fields employ specialized software or programming languages created specifically for the narrow function required.',\n",
              " 'For example, A.L.I.C.E.',\n",
              " 'uses a markup language called AIML, which is specific to its function as a conversational agent, and has since been adopted by various other developers of, so called, Alicebots.',\n",
              " 'Nevertheless, A.L.I.C.E.',\n",
              " 'is still purely based on pattern matching techniques without any reasoning capabilities, the same technique ELIZA was using back in 1966.',\n",
              " 'This is not strong AI, which would require sapience and logical reasoning abilities.',\n",
              " 'Jabberwacky learns new responses and context based on real-time user interactions, rather than being driven from a static database.',\n",
              " 'Some more recent chatbots also combine real-time learning with evolutionary algorithms that optimise their ability to communicate based on each conversation held.',\n",
              " 'Still, there is currently no general purpose conversational artificial intelligence, and some software developers focus on the practical aspect, information retrieval.',\n",
              " 'Chatbot competitions focus on the Turing test or more specific goals.',\n",
              " 'Two such annual contests are the Loebner Prize and The Chatterbox Challenge (the latter has been offline since 2015, however materials can still be found from web archives).',\n",
              " '[16]\\n\\nApplication\\nSee also: Virtual assistant\\n\\nAeromexico airline chatbot running on Facebook Messenger, March 2018\\nChatbots are used in a diverse fashion, across all verticals and on many different types of channel, e.g.',\n",
              " 'websites, social messaging, etc.',\n",
              " 'In business their application accelerated rapidly in 2019, leading Van Baker, research vice president at Gartner, to predict that: “By 2020, over 50% of medium to large enterprises will have deployed product chatbots.',\n",
              " '\"[17]\\n\\nMessaging apps\\nMany companies\\' chatbots run on messaging apps or simply via SMS.',\n",
              " 'They are used for B2C customer service, sales and marketing.',\n",
              " '[18]\\n\\nIn 2016, Facebook Messenger allowed developers to place chatbots on their platform.',\n",
              " 'There were 30,000 bots created for Messenger in the first six months, rising to 100,000 by September 2017.',\n",
              " '[19]\\n\\nSince September 2017, this has also been as part of a pilot program on WhatsApp.',\n",
              " 'Airlines KLM and Aeroméxico both announced their participation in the testing;[20][21][22][23] both airlines had previously launched customer services on the Facebook Messenger platform.',\n",
              " \"The bots usually appear as one of the user's contacts, but can sometimes act as participants in a group chat.\",\n",
              " 'Many banks, insurers, media companies, e-commerce companies, airlines, hotel chains, retailers, health care providers, government entities and restaurant chains have used chatbots to answer simple questions, increase customer engagement,[24] for promotion, and to offer additional ways to order from them.',\n",
              " '[25][26]\\n\\nA 2017 study showed 4% of companies used chatbots.',\n",
              " '[27] According to a 2016 study, 80% of businesses said they intended to have one by 2020.',\n",
              " '[28]\\n\\nAs part of company apps and websites\\nPrevious generations of chatbots were present on company websites, e.g.',\n",
              " \"Ask Jenn from Alaska Airlines which debuted in 2008[29] or Expedia's virtual customer service agent which launched in 2011.\",\n",
              " '[29][30] The newer generation of chatbots includes IBM Watson-powered \"Rocky\", introduced in February 2017 by the New York City-based e-commerce company Rare Carat to provide information to prospective diamond buyers.',\n",
              " '[31][32]\\n\\nChatbot sequences\\nUsed by marketers to script sequnces of messages, very similar to an Autoresponder sequence.',\n",
              " 'Such sequences can be triggered by user opt-in or the use of keywords within user interactions.',\n",
              " 'After a trigger occurs a sequnce of messages is delivered until the next anticipated user response.',\n",
              " 'Each user response is used in the decision tree to help the chat bot navigate the response sequnces to deliver the correct response message.',\n",
              " 'Company internal platforms\\nOther companies explore ways they can use chatbots internally, for example for Customer Support, Human Resources, or even in Internet-of-Things (IoT) projects.',\n",
              " 'Overstock.com, for one, has reportedly launched a chatbot named Mila to automate certain simple yet time-consuming processes when requesting for a sick leave.',\n",
              " '[33] Other large companies such as Lloyds Banking Group, Royal Bank of Scotland, Renault and Citroën are now using automated online assistants instead of call centres with humans to provide a first point of contact.',\n",
              " \"A SaaS chatbot business ecosystem has been steadily growing since the F8 Conference when Facebook's Mark Zuckerberg unveiled that Messenger would allow chatbots into the app.\",\n",
              " '[34] In large companies, like in hospitals and aviation organizations, IT architects are designing reference architectures for Intelligent Chatbots that are used to unlock and share knowledge and experience in the organization more efficiently, and reduce the errors in answers from expert service desks significantly.',\n",
              " '[35] These Intelligent Chatbots make use of all kinds of artificial intelligence like image moderation and natural language understanding (NLU), natural language generation (NLG), machine learning and deep learning.',\n",
              " 'Banking\\nNowadays a high majority of high-tech banking organizations are looking for integration of automated AI-based solutions such as chatbots in their customer service in order to provide faster and cheaper assistance to their clients becoming increasingly technodexterous.',\n",
              " 'In particularly, chatbots can efficiently conduct a dialogue, usually substituting other communication tools such as email, phone, or SMS.',\n",
              " 'In banking area their major application is related to quick customer service answering common requests, and transactional support.',\n",
              " 'Several studies accomplished by analytics agencies such as Juniper or Gartner [36] report significant reduction of cost of customer services, leading to billions of dollars of economy in the next 10 years.',\n",
              " \"Gartner predicts an integration by 2020 of chatbots in at least 85% of all client's applications to customer service.\",\n",
              " \"Juniper's study announces an impressive amount of $8 billion retained annually by 2022 due to the use of chatbots.\",\n",
              " 'Since 2016 when Facebook allows businesses to deliver automated customer support, e-commerce guidance, content and interactive experiences through chatbots, a large variety of chatbots for Facebook Messenger platform were developed.',\n",
              " \"[37] In 2016, Russia-based Tochka Bank launched the world's first Facebook bot for a range of financial services, in particularly including a possibility of making payments.\",\n",
              " '[38] In July 2016, Barclays Africa also launched a Facebook chatbot, making it the first bank to do so in Africa.',\n",
              " \"[39]\\n\\nThe France's third largest bank by total assets [40] Société Générale launched their chatbot called SoBot in March 2018.\",\n",
              " 'While the 80% of users of the SoBot express their satisfaction after having tested it, il will never remplace the expertise provided by a human advisor according to SG deputy director Bertrand Cozzarolo.',\n",
              " '[41]\\n\\nThere are several potential advantages of using chatbots in interaction with customer in banking:[42]\\n\\nCost reduction.',\n",
              " \"Chatbots eliminate the obligation of any human presence during online interaction and are so long seen as a huge advantage by companies operating with multiple repetitive queries at once as long as they don't require any decision-making procedure.\",\n",
              " '[43]\\nHuman touch.',\n",
              " 'Chatbots, providing an interface similar to human-to-human interaction, are more intuitive and so less difficult to use than a standard banking mobile application.',\n",
              " \"They doesn't require any additional software installation and are more adaptive as able to be personalized during the exploitation by the means of machine learning.\",\n",
              " 'Chatbots are instant and so much faster that phone calls, shown to be considered as tedious in some studies.',\n",
              " 'Then they satisfy both speed and personalization requirement while interacting with a bank.',\n",
              " 'Financial advice.',\n",
              " \"State-of-the-art banking assistants can, by accessing personal customer's data such as consumer behavior or history of purchases, provide useful information on client's account and use it to develop AI-Based recommendations for better adapted money management.\",\n",
              " 'Attracting new clients.',\n",
              " \"A chatbot greeting a bank's website guest can provide some useful and relevant information, helping to exploit the offered products and services in a personalized manner helps to attract the potential client and the he is more likely to end by creation of a new account.\",\n",
              " '[42]\\n24/7 digital support.',\n",
              " 'An instant and always accessible assistant is assumed by the more and more digital consumer of the new era.',\n",
              " \"[36] Unlike humans, chatbots once developed and installed don't have a limited workdays, holidays or weekends and are ready to attend queries at any hour of the day.\",\n",
              " \"It helps to the customer to avoid waiting of a company's agent to be available.\",\n",
              " \"Thus, the customer doesn't have to wait for the company executive to help them.\",\n",
              " 'This also lets companies keep an eye on the traffic during the non-working hours and reach out to them later.',\n",
              " '[43]\\nToys\\nChatbots have also been incorporated into devices not primarily meant for computing such as toys.',\n",
              " '[44]\\n\\nHello Barbie is an Internet-connected version of the doll that uses a chatbot provided by the company ToyTalk,[45] which previously used the chatbot for a range of smartphone-based characters for children.',\n",
              " \"[46] These characters' behaviors are constrained by a set of rules that in effect emulate a particular character and produce a storyline.\",\n",
              " \"[47]\\n\\nIBM's Watson computer has been used as the basis for chatbot-based educational toys for companies such as CogniToys[44] intended to interact with children for educational purposes.\",\n",
              " '[48]\\n\\nChatbot development platforms\\nThe process of building, testing and deploying chatbots can be done on cloud-based chatbot development platforms[49] offered by cloud Platform as a Service (PaaS) providers such as Oracle Cloud Platform [50][30] and IBM Watson.',\n",
              " '[51][52][53] These cloud platforms provide Natural Language Processing, Artificial Intelligence and Mobile Backend as a Service for chatbot development.',\n",
              " 'API\\n\\nSome Companies like Microsoft Azure and AARC are currently providing their Bot Engines through which chatbot Platforms or Software can be developed\\n\\nMalicious use\\nMalicious chatbots are frequently used to fill chat rooms with spam and advertisements, by mimicking human behavior and conversations or to entice people into revealing personal information, such as bank account numbers.',\n",
              " 'They are commonly found on Yahoo!',\n",
              " 'Messenger, Windows Live Messenger, AOL Instant Messenger and other instant messaging protocols.',\n",
              " \"There has also been a published report of a chatbot used in a fake personal ad on a dating service's website.\",\n",
              " '[54]\\n\\nTay, an AI chatbot that learns from previous interaction, caused major controversy due to it being targeted by internet trolls on Twitter.',\n",
              " 'The bot was exploited, and after 16 hours began to send extremely offensive Tweets to users.',\n",
              " 'This suggests that although the bot learnt effectively from experience, adequate protection was not put in place to prevent misuse.',\n",
              " '[55]\\n\\nIf a text-sending algorithm can pass itself off as a human instead of a chatbot, its message would be more credible.',\n",
              " 'Therefore, human-seeming chatbots with well-crafted online identities could start scattering fake news that seem plausible, for instance making false claims during a presidential election.',\n",
              " 'With enough chatbots, it might be even possible to achieve artificial social proof.',\n",
              " '[56][57]\\n\\nLimitations of Chatbots\\nThe creation and implementation of chatbots is still a developing area, heavily related to artificial intelligence and machine learning, so the provided solutions, while possessing obvious advantages, have some important limitations in terms of functionalities and use cases.',\n",
              " 'However this is changing over time.',\n",
              " 'The most common ones are listed below:[58]\\n\\nAs the database, used for output generation, is fixed and limited, chatbots can fail while dealing with an unsaved query.',\n",
              " \"[43]\\nChatbot's efficiency highly depends on language processing and is limited because of irregularities, such as accents and mistakes that can create an important barrier for international and multi-cultural organisations [59]\\nChatbots are unable to deal with multiple questions at the same time and so conversation opportunities are limited.\",\n",
              " '[58]\\nAs it happens usually with technology-led changes in existing services, some consumers, more often than not from the old generation, are uncomfortable with chatbots due to their limited understanding, making it obvious that their requests are being dealt machines.',\n",
              " '[58]\\nChatbots and jobs\\nChatbots are increasingly present in businesses and often are used to automate tasks that do not require skill-based talents.',\n",
              " 'With customer service taking place via messaging apps as well as phone calls, there are growing numbers of use-cases where chatbot deployment gives organisations a clear return on investment.',\n",
              " 'Call centre workers may be particularly at risk from AI-driven chatbots.',\n",
              " \"[60]\\n\\nA study by Forrester (June 2017) predicts that 25% of today's jobs will most likely be impacted by AI technologies by 2019.\",\n",
              " '[61]\\n\\nSee also\\nApplications of artificial intelligence\\nEugene Goostman\\nInteractive online characters\\nInternet bot\\nSocial bot\\nTwitterbot\\nList of chatterbots\\nReferences\\n \"What is a chatbot?\".',\n",
              " 'techtarget.com.',\n",
              " 'Retrieved 30 January 2017.',\n",
              " 'Luka Bradeško, Dunja Mladenić.',\n",
              " '\"A Survey of Chabot Systems through a Loebner Prize Competition\" (PDF).',\n",
              " 'Retrieved 28 June 2019.',\n",
              " 'Mauldin 1994\\n Orf, Darren.',\n",
              " '\"Google Assistant Is a Mega AI Bot That Wants To Be Absolutely Everywhere\".',\n",
              " '\"The 8 best chatbots of 2016\".',\n",
              " '21 December 2016.',\n",
              " '\"2017 Messenger Bot Landscape, a Public Spreadsheet Gathering 1000+ Messenger Bots\".',\n",
              " '3 May 2017.\\n https://georgianpartners.com/investment-thesis-areas/overview-conversational-ai/\\n (Turing 1950)\\n (Weizenbaum 1966, p. 36)\\n (Weizenbaum 1966, pp.',\n",
              " '44–5)\\n GüzeldereFranchi 1995\\n Computer History Museum 2006\\n Sondheim 1997\\n Network Working Group 1973—Transcript of a session between Parry and Eliza.',\n",
              " '(This is not the dialogue from the ICCC, which took place October 24–26, 1972, whereas this session is from September 18, 1972.)',\n",
              " 'www.everything.com 13 November 1999\\n (in German) Chatroboter simulieren Menschen\\n \"Chatbots Will Appeal to Modern Workers\".',\n",
              " '2018-03-28.',\n",
              " 'Retrieved 2019-07-04.',\n",
              " 'Beaver, Laurie (July 2016).',\n",
              " 'The Chatbots Explainer.',\n",
              " 'BI Intelligence.',\n",
              " '\"Facebook Messenger Hits 100,000 bots\".',\n",
              " '2017-04-18.',\n",
              " 'Retrieved 2017-09-22.',\n",
              " '\"KLM claims airline first with WhatsApp Business Platform\".',\n",
              " 'Staff, Forbes (26 October 2017).',\n",
              " '\"Aeroméxico te atenderá por WhatsApp durante 2018\".',\n",
              " 'Retrieved 2 July 2018.',\n",
              " 'Redacción (27 October 2017).',\n",
              " '\"Podrás hacer \\'check in\\' y consultar tu vuelo con Aeroméxico a través de WhatsApp\".',\n",
              " 'Huffington Post.',\n",
              " 'Retrieved 2 July 2018 – via Huff Post.',\n",
              " '\"Building for People, and Now Businesses\".',\n",
              " 'WhatsApp.com.',\n",
              " 'Retrieved 2 July 2018.',\n",
              " '\"She is the company\\'s most effective employee\".',\n",
              " 'Nordea News.',\n",
              " '\"Better believe the bot boom is blowing up big for B2B, B2C businesses\".',\n",
              " 'VentureBeat.',\n",
              " '2016-07-24.',\n",
              " '\"Chatbots Take Education To the Next Level – Chatbot News Daily\".',\n",
              " 'Chatbot News Daily.',\n",
              " '2016-09-29.',\n",
              " 'Retrieved 2017-06-23.',\n",
              " '\"The AI Revolution is Underway!',\n",
              " '– PM360\".',\n",
              " 'www.pm360online.com.',\n",
              " 'Retrieved 2 July 2018.',\n",
              " '\"80% of businesses want chatbots by 2020\".',\n",
              " 'Retrieved 2 July 2018.',\n",
              " '\"A Virtual Travel Agent With All the Answers\".',\n",
              " 'The New York Times.',\n",
              " '4 March 2008.',\n",
              " '\"Chatbot vendor directory released –\".',\n",
              " 'www.hypergridbusiness.com.',\n",
              " '\"Rare Carat\\'s Watson-powered chatbot will help you put a diamond ring on it\".',\n",
              " 'TechCrunch.',\n",
              " 'February 15, 2017.',\n",
              " '\"10 ways you may have already used IBM Watson\".',\n",
              " 'VentureBeat.',\n",
              " 'March 10, 2017.',\n",
              " 'Greenfield, Rebecca.',\n",
              " '\"Chatbots Are Your Newest, Dumbest Co-Workers\".',\n",
              " 'Bloomberg.',\n",
              " '\"Facebook opens its Messenger platform to chatbots\".',\n",
              " '12 April 2016.',\n",
              " '\"Chatbot Reference Architecture\".',\n",
              " '1 January 2019.',\n",
              " '\"HOW CHATBOTS ARE TRANSFORMING WALL STREET AND MAIN STREET BANKS?\".',\n",
              " '1 April 2019.',\n",
              " '\"Facebook launches Messenger platrofm with chatbots\".',\n",
              " '1 April 2019.',\n",
              " '\"Российский банк запустил чат-бота в Facebook\".',\n",
              " '1 April 2019.',\n",
              " '\"Absa launches \\'world-first\\' Facebook Messenger banking\".',\n",
              " '1 April 2019.',\n",
              " '\"The Biggest French Banks by Total Assets\".',\n",
              " 'Banks around the World.',\n",
              " 'Retrieved April 1, 2019.',\n",
              " '\"GAGNER DU TEMPS AVEC LE CHATBOT BANCAIRE POUR GAGNER EN INTELLIGENCE AVEC LES CONSEILLERS\".',\n",
              " 'Marketing Client.',\n",
              " 'Retrieved April 1, 2019.',\n",
              " '\"Meet 11 of the Most Interesting Chatbots in Banking\".',\n",
              " 'The Financial Brain.',\n",
              " 'Retrieved April 1, 2019.',\n",
              " '\"CHATBOTS: BOON OR BANE?\".',\n",
              " 'bluelupin.',\n",
              " 'Retrieved April 1, 2019.',\n",
              " 'Amy (2015-02-23).',\n",
              " '\"Conversational Toys – The Latest Trend in Speech Technology\".',\n",
              " 'Virtual Agent Chat.',\n",
              " 'Retrieved 2016-08-11.',\n",
              " 'NAGY, EVIE.',\n",
              " '\"USING TOYTALK TECHNOLOGY, NEW HELLO BARBIE WILL HAVE REAL CONVERSATIONS WITH KIDS\".',\n",
              " 'Fast Company.',\n",
              " 'Retrieved 18 March 2015.',\n",
              " 'Oren Jacob, the co-founder and CEO of ToyTalk interviewed on the TV show Triangulation on the TWiT.tv network\\n \"Artificial intelligence script tool\".',\n",
              " 'Takahashi, Dean.',\n",
              " '\"Elemental\\'s smart connected toy taps IBM\\'s Watson supercomputer for its brains\".',\n",
              " 'Venture Beat.',\n",
              " 'Retrieved 15 May 2015.',\n",
              " 'Yuan, Michael (2018-02-19).',\n",
              " 'Chatbots: Building Intelligent, Cross-Platform, Messaging Bots.',\n",
              " 'Pearson Education.',\n",
              " 'ISBN 9780134650616.',\n",
              " '\"Top 60 chatbots\".',\n",
              " '\"Oracle launches a chatbot development platform | VentureBeat\".',\n",
              " 'venturebeat.com.',\n",
              " 'Retrieved 2017-11-15.',\n",
              " '\"Oracle Introduces AI-Powered Intelligent Bots to Help Enterprises Engage Customers and Employees\".',\n",
              " 'www.oracle.com.',\n",
              " 'Retrieved 2017-11-15.',\n",
              " '\"Mobile Service | Oracle Cloud\".',\n",
              " 'cloud.oracle.com.',\n",
              " 'Retrieved 2017-11-15.',\n",
              " '\"From Russia With Love\" (PDF).',\n",
              " 'Retrieved 2007-12-09.',\n",
              " 'Psychologist and Scientific American: Mind contributing editor Robert Epstein reports how he was initially fooled by a chatterbot posing as an attractive girl in a personal ad he answered on a dating website.',\n",
              " 'In the ad, the girl portrayed herself as being in Southern California and then soon revealed, in poor English, that she was actually in Russia.',\n",
              " 'He became suspicious after a couple of months of email exchanges, sent her an email test of gibberish, and she still replied in general terms.',\n",
              " 'The dating website is not named.',\n",
              " 'Scientific American: Mind, October–November 2007, page 16–17, \"From Russia With Love: How I got fooled (and somewhat humiliated) by a computer\".',\n",
              " 'Also available online.',\n",
              " 'Bird, Jordan J.; Ekart, Aniko; Faria, Diego R. (June 2018).',\n",
              " 'Advances in Computational Intelligence Systems (1st ed.).',\n",
              " 'Nottingham, UK: Springer.',\n",
              " 'pp.',\n",
              " '179–190.',\n",
              " 'ISBN 978-3-319-97982-3.',\n",
              " 'Retrieved 3 December 2018.',\n",
              " '\"Fake News\".',\n",
              " 'Retrieved 2018-11-20.',\n",
              " '\"Malicious uses\".',\n",
              " 'Retrieved 2016-05-11.',\n",
              " '\"Meet 11 of the Most Interesting Chatbots in Banking\".',\n",
              " 'Retrieved 2019-04-01.',\n",
              " '\"Why chatbots fail (and why natural languages are hard)\".',\n",
              " 'Retrieved 2019-04-01.',\n",
              " '\"How talking machines are taking call centre jobs\".',\n",
              " 'Retrieved 2019-04-01.',\n",
              " '\"How chatbots are killing jobs (and creating new ones)\".',\n",
              " 'June 2017.',\n",
              " 'Retrieved 2019-04-01.',\n",
              " 'Further reading\\nComputer History Museum (2006), \"Internet History—1970\\'s\", Exhibits, Computer History Museum, archived from the original on 2008-02-21, retrieved 2008-03-05\\nGüzeldere, Güven; Franchi, Stefano (1995-07-24), \"Constructions of the Mind\", Stanford Humanities Review, SEHR, Stanford University, 4 (2), retrieved 2008-03-05\\nMauldin, Michael (1994), \"ChatterBots, TinyMuds, and the Turing Test: Entering the Loebner Prize Competition\", Proceedings of the Eleventh National Conference on Artificial Intelligence, AAAI Press, retrieved 2008-03-05 (abstract)\\nNetwork Working Group (1973), \"RFC 439, PARRY Encounters the DOCTOR\", Internet Engineering Task Force, Internet Society, retrieved 2008-03-05\\nSondheim, Alan J (1997), <nettime> Important Documents from the Early Internet (1972), nettime.org, archived from the original on 2008-06-13, retrieved 2008-03-05\\nSearle, John (1980), \"Minds, Brains and Programs\", Behavioral and Brain Sciences, 3 (3): 417–457, doi:10.1017/S0140525X00005756\\nShevat, Amir (2017).',\n",
              " 'Designing bots: Creating conversational experiences (First ed.).',\n",
              " \"Sebastopol, CA: O'Reilly Media.\",\n",
              " 'ISBN 9781491974827.',\n",
              " 'OCLC 962125282.',\n",
              " 'Turing, Alan (1950), \"Computing Machinery and Intelligence\", Mind, 59 (236): 433–60, doi:10.1093/mind/lix.236.433\\nWeizenbaum, Joseph (January 1966), \"ELIZA—A Computer Program For the Study of Natural Language Communication Between Man And Machine\", Communications of the ACM, 9 (1): 36–45, doi:10.1145/365153.365168\\nvte\\nNatural language processing\\nGlobe of letters.svgLanguage portal\\nCategories: ChatterbotsInstant messagingInteractive narrativeNatural language parsing\\nNavigation menu\\nNot logged inTalkContributionsCreate accountLog inArticleTalkReadEditView historySearch\\nSearch Wikipedia\\nMain page\\nContents\\nFeatured content\\nCurrent events\\nRandom article\\nDonate to Wikipedia\\nWikipedia store\\nInteraction\\nHelp\\nAbout Wikipedia\\nCommunity portal\\nRecent changes\\nContact page\\nTools\\nWhat links here\\nRelated changes\\nUpload file\\nSpecial pages\\nPermanent link\\nPage information\\nWikidata item\\nCite this page\\nIn other projects\\nWikimedia Commons\\nWikibooks\\nPrint/export\\nCreate a book\\nDownload as PDF\\nPrintable version\\n\\nLanguages\\nالعربية\\nDeutsch\\nEspañol\\nFrançais\\n한국어\\nBahasa Indonesia\\nItaliano\\nРусский\\n中文\\n23 more\\nEdit links\\nThis page was last edited on 3 August 2019, at 03:37 (UTC).',\n",
              " 'Text is available under the Creative Commons Attribution-ShareAlike License; additional terms may apply.',\n",
              " 'By using this site, you agree to the Terms of Use and Privacy Policy.',\n",
              " 'Wikipedia® is a registered trademark of the Wikimedia Foundation, Inc., a non-profit organization.',\n",
              " 'Privacy policyAbout WikipediaDisclaimersContact WikipediaDevelopersCookie statementMobile viewWikimedia Foundation Powered by MediaWiki']"
            ]
          },
          "metadata": {
            "tags": []
          },
          "execution_count": 20
        }
      ]
    },
    {
      "cell_type": "code",
      "metadata": {
        "id": "9JS39a5efsmY",
        "colab_type": "code",
        "colab": {
          "base_uri": "https://localhost:8080/",
          "height": 34
        },
        "outputId": "31341967-18cf-4773-9941-fe657beb6da4"
      },
      "source": [
        "word_tokens[:5]"
      ],
      "execution_count": 21,
      "outputs": [
        {
          "output_type": "execute_result",
          "data": {
            "text/plain": [
              "['Chatbot', 'From', 'Wikipedia', ',', 'the']"
            ]
          },
          "metadata": {
            "tags": []
          },
          "execution_count": 21
        }
      ]
    },
    {
      "cell_type": "code",
      "metadata": {
        "id": "xfV7bzDMf-tD",
        "colab_type": "code",
        "colab": {}
      },
      "source": [
        "lemmer = nltk.stem.WordNetLemmatizer()"
      ],
      "execution_count": 0,
      "outputs": []
    },
    {
      "cell_type": "code",
      "metadata": {
        "id": "vpNyYP5sr5TO",
        "colab_type": "code",
        "colab": {}
      },
      "source": [
        "def LemTokens(tokens):\n",
        "    return [lemmer.lemmatize(token) for token in tokens]\n",
        "  \n",
        "def LemNormalize(text):\n",
        "    return LemTokens(nltk.word_tokenize(text.lower().translate(remove_punct_dict)))"
      ],
      "execution_count": 0,
      "outputs": []
    },
    {
      "cell_type": "code",
      "metadata": {
        "id": "LwkXCM_Cr-nE",
        "colab_type": "code",
        "colab": {}
      },
      "source": [
        "remove_punct_dict = dict((ord(punct), None) for punct in string.punctuation)\n"
      ],
      "execution_count": 0,
      "outputs": []
    },
    {
      "cell_type": "code",
      "metadata": {
        "id": "nPBJo87Pr_EX",
        "colab_type": "code",
        "colab": {}
      },
      "source": [
        "GREETING_INPUTS = (\"hello\", \"hi\", \"greetings\", \"sup\", \"what's up\",\"hey\", \"Howdy\")\n",
        "\n",
        "GREETING_RESPONSES = [\"hi\", \"hey\", \"hi there\", \"hello\", \"Howdy\", \"I am glad! You are talking to me\"]"
      ],
      "execution_count": 0,
      "outputs": []
    },
    {
      "cell_type": "code",
      "metadata": {
        "id": "FSXgseVjsISw",
        "colab_type": "code",
        "colab": {}
      },
      "source": [
        "def greeting(sentence):\n",
        " \n",
        "    for word in sentence.split():\n",
        "        if word.lower() in GREETING_INPUTS:\n",
        "            return random.choice(GREETING_RESPONSES)"
      ],
      "execution_count": 0,
      "outputs": []
    },
    {
      "cell_type": "code",
      "metadata": {
        "id": "mEhkO2QvsLs-",
        "colab_type": "code",
        "colab": {
          "base_uri": "https://localhost:8080/",
          "height": 34
        },
        "outputId": "2ace5b87-5e19-496b-f4cc-48a557b662f2"
      },
      "source": [
        "greeting(\"hello there, how are you?\")"
      ],
      "execution_count": 31,
      "outputs": [
        {
          "output_type": "execute_result",
          "data": {
            "text/plain": [
              "'hi there'"
            ]
          },
          "metadata": {
            "tags": []
          },
          "execution_count": 31
        }
      ]
    },
    {
      "cell_type": "code",
      "metadata": {
        "id": "WQsHeLxFsOlX",
        "colab_type": "code",
        "colab": {}
      },
      "source": [
        "from sklearn.feature_extraction.text import TfidfVectorizer\n",
        "from sklearn.metrics.pairwise import cosine_similarity"
      ],
      "execution_count": 0,
      "outputs": []
    },
    {
      "cell_type": "code",
      "metadata": {
        "id": "17kc1MRosVY0",
        "colab_type": "code",
        "colab": {}
      },
      "source": [
        "def response(user_response):\n",
        "    robo_response=''\n",
        "    sent_tokens.append(user_response)    \n",
        "    TfidfVec = TfidfVectorizer(tokenizer=LemNormalize, stop_words='english')\n",
        "    tfidf = TfidfVec.fit_transform(sent_tokens)\n",
        "    vals = cosine_similarity(tfidf[-1], tfidf)\n",
        "    idx=vals.argsort()[0][-2]\n",
        "    flat = vals.flatten()\n",
        "    flat.sort()\n",
        "    req_tfidf = flat[-2]    \n",
        "    if(req_tfidf==0):\n",
        "        robo_response=robo_response+\"I am sorry! I don't understand you\"\n",
        "        return robo_response\n",
        "    else:\n",
        "        robo_response = robo_response+sent_tokens[idx]\n",
        "        return robo_response"
      ],
      "execution_count": 0,
      "outputs": []
    },
    {
      "cell_type": "code",
      "metadata": {
        "id": "6N0fcpdBssSJ",
        "colab_type": "code",
        "colab": {
          "base_uri": "https://localhost:8080/",
          "height": 921
        },
        "outputId": "2feee396-02a4-4811-de3c-30a441909d6c"
      },
      "source": [
        "flag=True\n",
        "print(\"ROBO: My name is Robo. I will answer your queries about Chatbots. If you want to exit, type Bye!\")\n",
        "while(flag==True):\n",
        "    user_response = input()\n",
        "    user_response=user_response.lower()\n",
        "    if(user_response!='bye'):\n",
        "        if(user_response=='thanks' or user_response=='thank you' ):\n",
        "            flag=False\n",
        "            print(\"ROBO: You are welcome..\")\n",
        "        else:\n",
        "            if(greeting(user_response)!=None):\n",
        "                print(\"ROBO: \"+greeting(user_response))\n",
        "            else:\n",
        "                print(\"ROBO: \",end=\"\")\n",
        "                print(response(user_response))\n",
        "                sent_tokens.remove(user_response)\n",
        "    else:\n",
        "        flag=False\n",
        "        print(\"ROBO: Bye! take care..\")"
      ],
      "execution_count": 35,
      "outputs": [
        {
          "output_type": "stream",
          "text": [
            "ROBO: My name is Robo. I will answer your queries about Chatbots. If you want to exit, type Bye!\n",
            "what is your name?\n",
            "ROBO: "
          ],
          "name": "stdout"
        },
        {
          "output_type": "stream",
          "text": [
            "/usr/local/lib/python3.6/dist-packages/sklearn/feature_extraction/text.py:300: UserWarning: Your stop_words may be inconsistent with your preprocessing. Tokenizing the stop words generated tokens ['ha', 'le', 'u', 'wa'] not in stop_words.\n",
            "  'stop_words.' % sorted(inconsistent))\n"
          ],
          "name": "stderr"
        },
        {
          "output_type": "stream",
          "text": [
            "I am sorry! I don't understand you\n",
            "hi!\n"
          ],
          "name": "stdout"
        },
        {
          "output_type": "stream",
          "text": [
            "/usr/local/lib/python3.6/dist-packages/sklearn/feature_extraction/text.py:300: UserWarning: Your stop_words may be inconsistent with your preprocessing. Tokenizing the stop words generated tokens ['ha', 'le', 'u', 'wa'] not in stop_words.\n",
            "  'stop_words.' % sorted(inconsistent))\n"
          ],
          "name": "stderr"
        },
        {
          "output_type": "stream",
          "text": [
            "ROBO: I am sorry! I don't understand you\n",
            "hi\n",
            "ROBO: I am glad! You are talking to me\n",
            "how are you?\n"
          ],
          "name": "stdout"
        },
        {
          "output_type": "stream",
          "text": [
            "/usr/local/lib/python3.6/dist-packages/sklearn/feature_extraction/text.py:300: UserWarning: Your stop_words may be inconsistent with your preprocessing. Tokenizing the stop words generated tokens ['ha', 'le', 'u', 'wa'] not in stop_words.\n",
            "  'stop_words.' % sorted(inconsistent))\n"
          ],
          "name": "stderr"
        },
        {
          "output_type": "stream",
          "text": [
            "ROBO: I am sorry! I don't understand you\n",
            "hello\n",
            "ROBO: hey\n",
            "what are you doing?\n"
          ],
          "name": "stdout"
        },
        {
          "output_type": "stream",
          "text": [
            "/usr/local/lib/python3.6/dist-packages/sklearn/feature_extraction/text.py:300: UserWarning: Your stop_words may be inconsistent with your preprocessing. Tokenizing the stop words generated tokens ['ha', 'le', 'u', 'wa'] not in stop_words.\n",
            "  'stop_words.' % sorted(inconsistent))\n"
          ],
          "name": "stderr"
        },
        {
          "output_type": "stream",
          "text": [
            "ROBO: In 1984, a book called The Policeman's Beard is Half Constructed was published, allegedly written by the chatbot Racter (though the program as released would not have been capable of doing so).\n"
          ],
          "name": "stdout"
        },
        {
          "output_type": "error",
          "ename": "KeyboardInterrupt",
          "evalue": "ignored",
          "traceback": [
            "\u001b[0;31m---------------------------------------------------------------------------\u001b[0m",
            "\u001b[0;31mKeyboardInterrupt\u001b[0m                         Traceback (most recent call last)",
            "\u001b[0;32m/usr/local/lib/python3.6/dist-packages/ipykernel/kernelbase.py\u001b[0m in \u001b[0;36m_input_request\u001b[0;34m(self, prompt, ident, parent, password)\u001b[0m\n\u001b[1;32m    729\u001b[0m             \u001b[0;32mtry\u001b[0m\u001b[0;34m:\u001b[0m\u001b[0;34m\u001b[0m\u001b[0;34m\u001b[0m\u001b[0m\n\u001b[0;32m--> 730\u001b[0;31m                 \u001b[0mident\u001b[0m\u001b[0;34m,\u001b[0m \u001b[0mreply\u001b[0m \u001b[0;34m=\u001b[0m \u001b[0mself\u001b[0m\u001b[0;34m.\u001b[0m\u001b[0msession\u001b[0m\u001b[0;34m.\u001b[0m\u001b[0mrecv\u001b[0m\u001b[0;34m(\u001b[0m\u001b[0mself\u001b[0m\u001b[0;34m.\u001b[0m\u001b[0mstdin_socket\u001b[0m\u001b[0;34m,\u001b[0m \u001b[0;36m0\u001b[0m\u001b[0;34m)\u001b[0m\u001b[0;34m\u001b[0m\u001b[0;34m\u001b[0m\u001b[0m\n\u001b[0m\u001b[1;32m    731\u001b[0m             \u001b[0;32mexcept\u001b[0m \u001b[0mException\u001b[0m\u001b[0;34m:\u001b[0m\u001b[0;34m\u001b[0m\u001b[0;34m\u001b[0m\u001b[0m\n",
            "\u001b[0;32m/usr/local/lib/python3.6/dist-packages/jupyter_client/session.py\u001b[0m in \u001b[0;36mrecv\u001b[0;34m(self, socket, mode, content, copy)\u001b[0m\n\u001b[1;32m    802\u001b[0m         \u001b[0;32mtry\u001b[0m\u001b[0;34m:\u001b[0m\u001b[0;34m\u001b[0m\u001b[0;34m\u001b[0m\u001b[0m\n\u001b[0;32m--> 803\u001b[0;31m             \u001b[0mmsg_list\u001b[0m \u001b[0;34m=\u001b[0m \u001b[0msocket\u001b[0m\u001b[0;34m.\u001b[0m\u001b[0mrecv_multipart\u001b[0m\u001b[0;34m(\u001b[0m\u001b[0mmode\u001b[0m\u001b[0;34m,\u001b[0m \u001b[0mcopy\u001b[0m\u001b[0;34m=\u001b[0m\u001b[0mcopy\u001b[0m\u001b[0;34m)\u001b[0m\u001b[0;34m\u001b[0m\u001b[0;34m\u001b[0m\u001b[0m\n\u001b[0m\u001b[1;32m    804\u001b[0m         \u001b[0;32mexcept\u001b[0m \u001b[0mzmq\u001b[0m\u001b[0;34m.\u001b[0m\u001b[0mZMQError\u001b[0m \u001b[0;32mas\u001b[0m \u001b[0me\u001b[0m\u001b[0;34m:\u001b[0m\u001b[0;34m\u001b[0m\u001b[0;34m\u001b[0m\u001b[0m\n",
            "\u001b[0;32m/usr/local/lib/python3.6/dist-packages/zmq/sugar/socket.py\u001b[0m in \u001b[0;36mrecv_multipart\u001b[0;34m(self, flags, copy, track)\u001b[0m\n\u001b[1;32m    465\u001b[0m         \"\"\"\n\u001b[0;32m--> 466\u001b[0;31m         \u001b[0mparts\u001b[0m \u001b[0;34m=\u001b[0m \u001b[0;34m[\u001b[0m\u001b[0mself\u001b[0m\u001b[0;34m.\u001b[0m\u001b[0mrecv\u001b[0m\u001b[0;34m(\u001b[0m\u001b[0mflags\u001b[0m\u001b[0;34m,\u001b[0m \u001b[0mcopy\u001b[0m\u001b[0;34m=\u001b[0m\u001b[0mcopy\u001b[0m\u001b[0;34m,\u001b[0m \u001b[0mtrack\u001b[0m\u001b[0;34m=\u001b[0m\u001b[0mtrack\u001b[0m\u001b[0;34m)\u001b[0m\u001b[0;34m]\u001b[0m\u001b[0;34m\u001b[0m\u001b[0;34m\u001b[0m\u001b[0m\n\u001b[0m\u001b[1;32m    467\u001b[0m         \u001b[0;31m# have first part already, only loop while more to receive\u001b[0m\u001b[0;34m\u001b[0m\u001b[0;34m\u001b[0m\u001b[0;34m\u001b[0m\u001b[0m\n",
            "\u001b[0;32mzmq/backend/cython/socket.pyx\u001b[0m in \u001b[0;36mzmq.backend.cython.socket.Socket.recv\u001b[0;34m()\u001b[0m\n",
            "\u001b[0;32mzmq/backend/cython/socket.pyx\u001b[0m in \u001b[0;36mzmq.backend.cython.socket.Socket.recv\u001b[0;34m()\u001b[0m\n",
            "\u001b[0;32mzmq/backend/cython/socket.pyx\u001b[0m in \u001b[0;36mzmq.backend.cython.socket._recv_copy\u001b[0;34m()\u001b[0m\n",
            "\u001b[0;32m/usr/local/lib/python3.6/dist-packages/zmq/backend/cython/checkrc.pxd\u001b[0m in \u001b[0;36mzmq.backend.cython.checkrc._check_rc\u001b[0;34m()\u001b[0m\n",
            "\u001b[0;31mKeyboardInterrupt\u001b[0m: ",
            "\nDuring handling of the above exception, another exception occurred:\n",
            "\u001b[0;31mKeyboardInterrupt\u001b[0m                         Traceback (most recent call last)",
            "\u001b[0;32m<ipython-input-35-2f2e157a5cd8>\u001b[0m in \u001b[0;36m<module>\u001b[0;34m()\u001b[0m\n\u001b[1;32m      2\u001b[0m \u001b[0mprint\u001b[0m\u001b[0;34m(\u001b[0m\u001b[0;34m\"ROBO: My name is Robo. I will answer your queries about Chatbots. If you want to exit, type Bye!\"\u001b[0m\u001b[0;34m)\u001b[0m\u001b[0;34m\u001b[0m\u001b[0;34m\u001b[0m\u001b[0m\n\u001b[1;32m      3\u001b[0m \u001b[0;32mwhile\u001b[0m\u001b[0;34m(\u001b[0m\u001b[0mflag\u001b[0m\u001b[0;34m==\u001b[0m\u001b[0;32mTrue\u001b[0m\u001b[0;34m)\u001b[0m\u001b[0;34m:\u001b[0m\u001b[0;34m\u001b[0m\u001b[0;34m\u001b[0m\u001b[0m\n\u001b[0;32m----> 4\u001b[0;31m     \u001b[0muser_response\u001b[0m \u001b[0;34m=\u001b[0m \u001b[0minput\u001b[0m\u001b[0;34m(\u001b[0m\u001b[0;34m)\u001b[0m\u001b[0;34m\u001b[0m\u001b[0;34m\u001b[0m\u001b[0m\n\u001b[0m\u001b[1;32m      5\u001b[0m     \u001b[0muser_response\u001b[0m\u001b[0;34m=\u001b[0m\u001b[0muser_response\u001b[0m\u001b[0;34m.\u001b[0m\u001b[0mlower\u001b[0m\u001b[0;34m(\u001b[0m\u001b[0;34m)\u001b[0m\u001b[0;34m\u001b[0m\u001b[0;34m\u001b[0m\u001b[0m\n\u001b[1;32m      6\u001b[0m     \u001b[0;32mif\u001b[0m\u001b[0;34m(\u001b[0m\u001b[0muser_response\u001b[0m\u001b[0;34m!=\u001b[0m\u001b[0;34m'bye'\u001b[0m\u001b[0;34m)\u001b[0m\u001b[0;34m:\u001b[0m\u001b[0;34m\u001b[0m\u001b[0;34m\u001b[0m\u001b[0m\n",
            "\u001b[0;32m/usr/local/lib/python3.6/dist-packages/ipykernel/kernelbase.py\u001b[0m in \u001b[0;36mraw_input\u001b[0;34m(self, prompt)\u001b[0m\n\u001b[1;32m    703\u001b[0m             \u001b[0mself\u001b[0m\u001b[0;34m.\u001b[0m\u001b[0m_parent_ident\u001b[0m\u001b[0;34m,\u001b[0m\u001b[0;34m\u001b[0m\u001b[0;34m\u001b[0m\u001b[0m\n\u001b[1;32m    704\u001b[0m             \u001b[0mself\u001b[0m\u001b[0;34m.\u001b[0m\u001b[0m_parent_header\u001b[0m\u001b[0;34m,\u001b[0m\u001b[0;34m\u001b[0m\u001b[0;34m\u001b[0m\u001b[0m\n\u001b[0;32m--> 705\u001b[0;31m             \u001b[0mpassword\u001b[0m\u001b[0;34m=\u001b[0m\u001b[0;32mFalse\u001b[0m\u001b[0;34m,\u001b[0m\u001b[0;34m\u001b[0m\u001b[0;34m\u001b[0m\u001b[0m\n\u001b[0m\u001b[1;32m    706\u001b[0m         )\n\u001b[1;32m    707\u001b[0m \u001b[0;34m\u001b[0m\u001b[0m\n",
            "\u001b[0;32m/usr/local/lib/python3.6/dist-packages/ipykernel/kernelbase.py\u001b[0m in \u001b[0;36m_input_request\u001b[0;34m(self, prompt, ident, parent, password)\u001b[0m\n\u001b[1;32m    733\u001b[0m             \u001b[0;32mexcept\u001b[0m \u001b[0mKeyboardInterrupt\u001b[0m\u001b[0;34m:\u001b[0m\u001b[0;34m\u001b[0m\u001b[0;34m\u001b[0m\u001b[0m\n\u001b[1;32m    734\u001b[0m                 \u001b[0;31m# re-raise KeyboardInterrupt, to truncate traceback\u001b[0m\u001b[0;34m\u001b[0m\u001b[0;34m\u001b[0m\u001b[0;34m\u001b[0m\u001b[0m\n\u001b[0;32m--> 735\u001b[0;31m                 \u001b[0;32mraise\u001b[0m \u001b[0mKeyboardInterrupt\u001b[0m\u001b[0;34m\u001b[0m\u001b[0;34m\u001b[0m\u001b[0m\n\u001b[0m\u001b[1;32m    736\u001b[0m             \u001b[0;32melse\u001b[0m\u001b[0;34m:\u001b[0m\u001b[0;34m\u001b[0m\u001b[0;34m\u001b[0m\u001b[0m\n\u001b[1;32m    737\u001b[0m                 \u001b[0;32mbreak\u001b[0m\u001b[0;34m\u001b[0m\u001b[0;34m\u001b[0m\u001b[0m\n",
            "\u001b[0;31mKeyboardInterrupt\u001b[0m: "
          ]
        }
      ]
    },
    {
      "cell_type": "code",
      "metadata": {
        "id": "cyC6AKjYs2ou",
        "colab_type": "code",
        "colab": {}
      },
      "source": [
        ""
      ],
      "execution_count": 0,
      "outputs": []
    }
  ]
}